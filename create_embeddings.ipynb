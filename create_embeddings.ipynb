{
 "cells": [
  {
   "cell_type": "code",
   "execution_count": null,
   "metadata": {},
   "outputs": [],
   "source": [
    "## * install pymilvus sentence-transformers library \n",
    "!pip install --no-cache-dir python-dotenv pymilvus sentence-transformers "
   ]
  },
  {
   "cell_type": "code",
   "execution_count": null,
   "metadata": {},
   "outputs": [],
   "source": [
    "from dotenv import load_dotenv\n",
    "import os\n",
    "load_dotenv()\n",
    "\n",
    "## * Loading environment variables\n",
    "MILVUS_PORT =os.getenv(\"MILVUS_PORT\")\n",
    "MILVUS_HOST =os.getenv(\"MILVUS_HOST\")"
   ]
  },
  {
   "cell_type": "code",
   "execution_count": 4,
   "metadata": {},
   "outputs": [],
   "source": [
    "## * bash standalone_embed.sh start\n",
    "## * start Milvus standalone\n",
    "from pymilvus import (\n",
    "    connections,utility,FieldSchema,CollectionSchema,DataType,Collection\n",
    ")\n",
    "connections.connect(host=MILVUS_HOST,port=MILVUS_PORT)"
   ]
  },
  {
   "cell_type": "code",
   "execution_count": 19,
   "metadata": {},
   "outputs": [],
   "source": [
    "COLLECTION_NAME = \"movies_db\"\n",
    "DIMENSION = 384 ## sentence-transformers generate 384 embedding dimension.\n",
    "\n",
    "## * Generally more dimensions means more information can be stored. and more accurate result\n",
    "## * adding field to collection\n",
    "fields = [\n",
    "    FieldSchema(name='id', dtype=DataType.INT64, is_primary=True, auto_id=True), ## id is auto=increment\n",
    "    FieldSchema(name='title', dtype=DataType.VARCHAR, max_length=200),\n",
    "    FieldSchema(name='embedding', dtype=DataType.FLOAT_VECTOR, dim=DIMENSION)\n",
    "]\n",
    "schema = CollectionSchema(fields=fields)\n",
    "collection = Collection(name=COLLECTION_NAME, schema=schema)\n"
   ]
  },
  {
   "cell_type": "code",
   "execution_count": 20,
   "metadata": {},
   "outputs": [],
   "source": [
    "## * create an IVF_FLAT index for collection.\n",
    "index_params = {\n",
    "    'metric_type':'L2',\n",
    "    'index_type':\"IVF_FLAT\",\n",
    "    'params':{'nlist': 1536}\n",
    "}\n",
    "collection.create_index(field_name=\"embedding\", index_params=index_params)\n",
    "collection.load()"
   ]
  },
  {
   "cell_type": "code",
   "execution_count": 21,
   "metadata": {},
   "outputs": [],
   "source": [
    "## * inserting data\n",
    "import csv\n",
    "from sentence_transformers import SentenceTransformer\n",
    "\n",
    "transformer = SentenceTransformer('all-MiniLM-L6-v2')\n",
    "\n",
    "def csv_load(file):\n",
    "    with open(file, newline='') as f:\n",
    "        reader = csv.reader(f, delimiter=',')\n",
    "        for row in reader:\n",
    "            if '' in (row[1], row[7]):\n",
    "                continue\n",
    "            yield (row[1], row[7])\n",
    "\n",
    "\n",
    "def embed_insert(data):\n",
    "    embeds = transformer.encode(data[1]) \n",
    "    ins = [\n",
    "            data[0],\n",
    "            [x for x in embeds]\n",
    "    ]\n",
    "    collection.insert(ins)\n"
   ]
  },
  {
   "cell_type": "code",
   "execution_count": null,
   "metadata": {},
   "outputs": [],
   "source": [
    "## * processing embeddings in batch because it takes time to insert them.\n",
    "import time\n",
    "\n",
    "BATCH_SIZE = 128\n",
    "\n",
    "data_batch = [[],[]]\n",
    "\n",
    "count = 0\n",
    "\n",
    "for title, plot in csv_load('plots.csv'):\n",
    "    data_batch[0].append(title)\n",
    "    data_batch[1].append(plot)\n",
    "    if len(data_batch[0]) % BATCH_SIZE == 0:\n",
    "        embed_insert(data_batch)\n",
    "        data_batch = [[],[]]\n",
    "        print(f\"\\ninserted... {count} movies\")\n",
    "    count += 1\n",
    "\n",
    "if len(data_batch[0]) != 0:\n",
    "    embed_insert(data_batch)\n",
    "\n",
    "collection.flush()"
   ]
  },
  {
   "cell_type": "code",
   "execution_count": 27,
   "metadata": {},
   "outputs": [
    {
     "name": "stdout",
     "output_type": "stream",
     "text": [
      "Title: A movie about cars\n",
      "Search Time: 0.023342132568359375\n",
      "Results:\n",
      "Red Line 7000 ---- 0.9104408025741577\n",
      "Tomboy ---- 0.925471305847168\n",
      "Quick Millions ---- 0.9283517003059387\n",
      "\n",
      "Title: A movie about monsters\n",
      "Search Time: 0.023342132568359375\n",
      "Results:\n",
      "The Monster Squad ---- 0.9770852327346802\n",
      "The Butcher Boy ---- 0.9966024160385132\n",
      "Maa Kasam ---- 1.0104992389678955\n",
      "\n"
     ]
    }
   ],
   "source": [
    "TOP_K = 3\n",
    "search_terms = ['A movie about cars', 'A movie about monsters']\n",
    "\n",
    "def embed_search(data):\n",
    "    embeds = transformer.encode(data) \n",
    "    return [x for x in embeds]\n",
    "\n",
    "search_data = embed_search(search_terms)\n",
    "\n",
    "start = time.time()\n",
    "res = collection.search(\n",
    "    data=search_data, \n",
    "    anns_field=\"embedding\",\n",
    "    param={},\n",
    "    limit = TOP_K, \n",
    "    output_fields=['title']\n",
    ")\n",
    "end = time.time()\n",
    "\n",
    "for hits_i, hits in enumerate(res):\n",
    "    print('Title:', search_terms[hits_i])\n",
    "    print('Search Time:', end-start)\n",
    "    print('Results:')\n",
    "    for hit in hits:\n",
    "        print( hit.entity.get('title'), '----', hit.distance)\n",
    "    print()\n"
   ]
  }
 ],
 "metadata": {
  "kernelspec": {
   "display_name": ".venv",
   "language": "python",
   "name": "python3"
  },
  "language_info": {
   "codemirror_mode": {
    "name": "ipython",
    "version": 3
   },
   "file_extension": ".py",
   "mimetype": "text/x-python",
   "name": "python",
   "nbconvert_exporter": "python",
   "pygments_lexer": "ipython3",
   "version": "3.11.7"
  }
 },
 "nbformat": 4,
 "nbformat_minor": 2
}
